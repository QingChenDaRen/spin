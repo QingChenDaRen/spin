{
 "cells": [
  {
   "cell_type": "markdown",
   "metadata": {},
   "source": [
    "This program takes all the combinations of mass, inclination and distance in the grid and then sorts then by their normalization. The fitting program can then move through the list in order. We will start in the middle of the sorted list and have one ascend and one descend. So that we will not start at an extreme and introduce errors."
   ]
  },
  {
   "cell_type": "code",
   "execution_count": 8,
   "metadata": {
    "collapsed": false
   },
   "outputs": [],
   "source": [
    "import numpy as np\n",
    "from math import cos\n",
    "import itertools"
   ]
  },
  {
   "cell_type": "code",
   "execution_count": 9,
   "metadata": {
    "collapsed": false
   },
   "outputs": [],
   "source": [
    "# Generate the M, i, D, ranges\n",
    "Mass = np.linspace(8.0,19.0,12)\n",
    "inc = np.linspace(42.0,69.5,12)\n",
    "Dist = np.linspace(6.0,12.5,14)"
   ]
  },
  {
   "cell_type": "code",
   "execution_count": 10,
   "metadata": {
    "collapsed": false
   },
   "outputs": [],
   "source": [
    "# Calculate normalization\n",
    "MiD = list(itertools.product(Mass, inc, Dist))\n",
    "\n",
    "f = 1.7 # Color correction factor\n",
    "norm = []\n",
    "for item in MiD:\n",
    "    norm.append((item[0]**2 / item[2])**2 * ( cos(item[1])/f**4 ))\n",
    "            "
   ]
  },
  {
   "cell_type": "code",
   "execution_count": 11,
   "metadata": {
    "collapsed": false
   },
   "outputs": [],
   "source": [
    "# Sort MiD list according to normalization\n",
    "sorted_MiD = [x for y,x in sorted(zip(norm, MiD))]"
   ]
  },
  {
   "cell_type": "code",
   "execution_count": 12,
   "metadata": {
    "collapsed": false
   },
   "outputs": [],
   "source": [
    "with open('midfile.dat', 'w') as f:\n",
    "    for s in sorted_MiD:\n",
    "        line = str(s[0]) + \" \" + str(s[1]) + \" \" + str(s[2])\n",
    "        f.write(line + '\\n')"
   ]
  },
  {
   "cell_type": "code",
   "execution_count": null,
   "metadata": {
    "collapsed": true
   },
   "outputs": [],
   "source": []
  }
 ],
 "metadata": {
  "kernelspec": {
   "display_name": "Python 2",
   "language": "python",
   "name": "python2"
  },
  "language_info": {
   "codemirror_mode": {
    "name": "ipython",
    "version": 2
   },
   "file_extension": ".py",
   "mimetype": "text/x-python",
   "name": "python",
   "nbconvert_exporter": "python",
   "pygments_lexer": "ipython2",
   "version": "2.7.12"
  },
  "widgets": {
   "state": {},
   "version": "1.1.2"
  }
 },
 "nbformat": 4,
 "nbformat_minor": 0
}
