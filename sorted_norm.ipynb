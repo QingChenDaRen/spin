{
 "cells": [
  {
   "cell_type": "markdown",
   "metadata": {},
   "source": [
    "This code takes all combinations of mass (M), inclination (i) and distance (D) in a predetermined grid and then sorts these combinations by the normalization they produce given a non-relativistic model. This sorting of M, i D The sorted list is split in the middle and saved as two lists; one going from middle to the start and the other going from middle to the end. Our fitting script which fits the relativistic model we use for spin calculation can then move through these two lists in order. We will start in the middle of the sorted list so that we do not start at an extreme and introduce errors."
   ]
  },
  {
   "cell_type": "code",
   "execution_count": 36,
   "metadata": {
    "collapsed": false
   },
   "outputs": [],
   "source": [
    "import numpy as np\n",
    "from math import cos\n",
    "import itertools\n",
    "import matplotlib.pyplot as plt\n",
    "\n",
    "%matplotlib inline"
   ]
  },
  {
   "cell_type": "code",
   "execution_count": 37,
   "metadata": {
    "collapsed": false
   },
   "outputs": [],
   "source": [
    "# Generate the M, i, D, ranges\n",
    "Mass = np.linspace(8.0,19.0,12)\n",
    "inc = np.linspace(42.0,69.5,12)\n",
    "Dist = np.linspace(6.0,12.5,14)"
   ]
  },
  {
   "cell_type": "code",
   "execution_count": 39,
   "metadata": {
    "collapsed": false
   },
   "outputs": [],
   "source": [
    "# Calculate normalization\n",
    "MiD = list(itertools.product(Mass, inc, Dist))\n",
    "\n",
    "f = 1.7 # Color correction factor\n",
    "norm = []\n",
    "for item in MiD:\n",
    "    norm.append((item[0] / item[2])**2 * ( cos(item[1])/f**4 ))\n",
    "            "
   ]
  },
  {
   "cell_type": "code",
   "execution_count": 40,
   "metadata": {
    "collapsed": false
   },
   "outputs": [],
   "source": [
    "# Sort MiD list according to normalization\n",
    "sorted_norm = [x for x,y in sorted(zip(norm, MiD))]\n",
    "sorted_MiD = [y for x,y in sorted(zip(norm, MiD))]"
   ]
  },
  {
   "cell_type": "code",
   "execution_count": 41,
   "metadata": {
    "collapsed": false
   },
   "outputs": [
    {
     "data": {
      "image/png": "[encoded data removed]",
      "text/plain": [
       "<matplotlib.figure.Figure at 0x107374090>"
      ]
     },
     "metadata": {},
     "output_type": "display_data"
    }
   ],
   "source": [
    "plt.plot(sorted_norm)\n",
    "plt.show()"
   ]
  },
  {
   "cell_type": "code",
   "execution_count": 42,
   "metadata": {
    "collapsed": false
   },
   "outputs": [],
   "source": [
    "# Make two lists from middle to smallest and middle to largest\n",
    "\n",
    "first_half = sorted_MiD[:1008]\n",
    "second_half = sorted_MiD[1008:]\n",
    "\n",
    "MiD_mid_to_small = list(reversed(first_half))\n",
    "MiD_mid_to_large = second_half"
   ]
  },
  {
   "cell_type": "code",
   "execution_count": 43,
   "metadata": {
    "collapsed": false
   },
   "outputs": [],
   "source": [
    "with open('MiD_mid_to_small.dat', 'w') as f:\n",
    "    for s in MiD_mid_to_small:\n",
    "        line = str(s[0]) + \" \" + str(s[1]) + \" \" + str(s[2])\n",
    "        f.write(line + '\\n')\n",
    "        \n",
    "with open('MiD_mid_to_large.dat', 'w') as f:\n",
    "    for s in MiD_mid_to_large:\n",
    "        line = str(s[0]) + \" \" + str(s[1]) + \" \" + str(s[2])\n",
    "        f.write(line + '\\n')"
   ]
  },
  {
   "cell_type": "code",
   "execution_count": null,
   "metadata": {
    "collapsed": true
   },
   "outputs": [],
   "source": []
  }
 ],
 "metadata": {
  "kernelspec": {
   "display_name": "Python 2",
   "language": "python",
   "name": "python2"
  },
  "language_info": {
   "codemirror_mode": {
    "name": "ipython",
    "version": 2
   },
   "file_extension": ".py",
   "mimetype": "text/x-python",
   "name": "python",
   "nbconvert_exporter": "python",
   "pygments_lexer": "ipython2",
   "version": "2.7.12"
  },
  "widgets": {
   "state": {},
   "version": "1.1.2"
  }
 },
 "nbformat": 4,
 "nbformat_minor": 0
}
